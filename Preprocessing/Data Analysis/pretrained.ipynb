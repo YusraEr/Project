{
 "cells": [
  {
   "cell_type": "code",
   "execution_count": 1,
   "id": "a7af3669",
   "metadata": {},
   "outputs": [],
   "source": [
    "from sklearn.ensemble import RandomForestClassifier\n",
    "from sklearn.model_selection import train_test_split\n",
    "import pandas as pd\n",
    "import numpy as np\n",
    "from sklearn.ensemble import GradientBoostingClassifier\n",
    "from sklearn.ensemble import HistGradientBoostingClassifier\n",
    "from sklearn.metrics import classification_report, accuracy_score, confusion_matrix, roc_auc_score, RocCurveDisplay\n",
    "from imblearn.over_sampling import SMOTE\n",
    "import seaborn as sns\n",
    "import matplotlib.pyplot as plt\n",
    "from sklearn.model_selection import cross_val_score\n",
    "from skopt import gp_minimize\n",
    "from skopt.space import Real, Integer\n",
    "from skopt.utils import use_named_args\n",
    "from skopt import BayesSearchCV\n",
    "from imblearn.pipeline import Pipeline"
   ]
  },
  {
   "cell_type": "code",
   "execution_count": 4,
   "id": "be3d638f",
   "metadata": {},
   "outputs": [],
   "source": [
    "df_clean = pd.read_csv('cleaned_data.csv')"
   ]
  },
  {
   "cell_type": "code",
   "execution_count": 5,
   "id": "b8f362d8",
   "metadata": {},
   "outputs": [],
   "source": [
    "df_clean.drop(columns=['Unnamed: 0', 'year'], inplace=True)"
   ]
  },
  {
   "cell_type": "code",
   "execution_count": 6,
   "id": "cd6bec84",
   "metadata": {},
   "outputs": [],
   "source": [
    "df_clean['ADDEPEV3'] = df_clean['ADDEPEV3'].replace(2.0, 0.0)"
   ]
  },
  {
   "cell_type": "code",
   "execution_count": 7,
   "id": "fdb8f74c",
   "metadata": {},
   "outputs": [],
   "source": [
    "X = df_clean.drop('ADDEPEV3', axis=1)\n",
    "y = df_clean['ADDEPEV3']"
   ]
  },
  {
   "cell_type": "code",
   "execution_count": 8,
   "id": "8d63f476",
   "metadata": {},
   "outputs": [],
   "source": [
    "X_train, X_test, y_train, y_test = train_test_split(X, y, stratify=y)"
   ]
  },
  {
   "cell_type": "markdown",
   "id": "254286d7",
   "metadata": {},
   "source": [
    "# pre-trained "
   ]
  },
  {
   "cell_type": "code",
   "execution_count": 9,
   "id": "3cd16a7f",
   "metadata": {},
   "outputs": [],
   "source": [
    "from pytorch_tabnet.tab_model import TabNetClassifier"
   ]
  },
  {
   "cell_type": "code",
   "execution_count": 25,
   "id": "8826de08",
   "metadata": {},
   "outputs": [
    {
     "name": "stdout",
     "output_type": "stream",
     "text": [
      "Categorical indices: [0, 1, 2, 3, 4, 5, 6, 7, 8, 9, 10, 11, 12, 13, 14, 15, 16, 17, 18, 19, 20, 21, 22, 23, 24, 25]\n",
      "Categorical dimensions: [1, 4, 3, 2, 5, 5, 1, 3, 4, 4, 1, 6, 1, 3, 1, 1, 6, 1, 1, 4, 3, 1, 5, 5, 1, 3]\n"
     ]
    }
   ],
   "source": [
    "X_train_np = X_train.values.astype(np.float32)\n",
    "X_test_np = X_test.values.astype(np.float32)\n",
    "\n",
    "\n",
    "cat_idxs = []\n",
    "cat_dims = []\n",
    "\n",
    "for i, col in enumerate(X_train.columns):\n",
    "    n_unique = X_train[col].nunique() - 1\n",
    "    \n",
    "    # Threshold bisa kamu sesuaikan, misalnya <= 10 dianggap kategorikal\n",
    "    if n_unique <= 10:  \n",
    "        cat_idxs.append(i)\n",
    "        cat_dims.append(n_unique)\n",
    "        \n",
    "print(\"Categorical indices:\", cat_idxs)\n",
    "print(\"Categorical dimensions:\", cat_dims)\n"
   ]
  },
  {
   "cell_type": "code",
   "execution_count": 27,
   "id": "8e06fadc",
   "metadata": {},
   "outputs": [],
   "source": [
    "cat_dims = []\n",
    "\n",
    "for i in cat_idxs:\n",
    "    col = X_train.columns[i]\n",
    "    max_val = X_train[col].max()\n",
    "    cat_dims.append(int(max_val) + 1)"
   ]
  },
  {
   "cell_type": "code",
   "execution_count": 36,
   "id": "2b03f81c",
   "metadata": {},
   "outputs": [
    {
     "name": "stderr",
     "output_type": "stream",
     "text": [
      "c:\\Users\\yusra\\AppData\\Local\\Programs\\Python\\Python312\\Lib\\site-packages\\pytorch_tabnet\\abstract_model.py:82: UserWarning: Device used : cpu\n",
      "  warnings.warn(f\"Device used : {self.device}\")\n"
     ]
    },
    {
     "name": "stdout",
     "output_type": "stream",
     "text": [
      "epoch 0  | loss: 0.52681 | val_auc: 0.74495 | val_accuracy: 0.76371 |  0:00:39s\n",
      "epoch 1  | loss: 0.47511 | val_auc: 0.77743 | val_accuracy: 0.78173 |  0:01:11s\n",
      "epoch 2  | loss: 0.4651  | val_auc: 0.78674 | val_accuracy: 0.78554 |  0:01:45s\n",
      "epoch 3  | loss: 0.46247 | val_auc: 0.78719 | val_accuracy: 0.78803 |  0:02:18s\n",
      "epoch 4  | loss: 0.45711 | val_auc: 0.7948  | val_accuracy: 0.79241 |  0:02:50s\n",
      "epoch 5  | loss: 0.45477 | val_auc: 0.79598 | val_accuracy: 0.79293 |  0:03:26s\n",
      "epoch 6  | loss: 0.45265 | val_auc: 0.79771 | val_accuracy: 0.79388 |  0:03:54s\n",
      "epoch 7  | loss: 0.45061 | val_auc: 0.79931 | val_accuracy: 0.79405 |  0:04:23s\n",
      "epoch 8  | loss: 0.44788 | val_auc: 0.80077 | val_accuracy: 0.79601 |  0:05:07s\n",
      "epoch 9  | loss: 0.44469 | val_auc: 0.8073  | val_accuracy: 0.7967  |  0:06:22s\n",
      "epoch 10 | loss: 0.44042 | val_auc: 0.81018 | val_accuracy: 0.79826 |  0:07:37s\n",
      "epoch 11 | loss: 0.43852 | val_auc: 0.81181 | val_accuracy: 0.79931 |  0:08:51s\n",
      "epoch 12 | loss: 0.43945 | val_auc: 0.81107 | val_accuracy: 0.79856 |  0:09:56s\n",
      "epoch 13 | loss: 0.43913 | val_auc: 0.80968 | val_accuracy: 0.79744 |  0:11:08s\n",
      "epoch 14 | loss: 0.43752 | val_auc: 0.81139 | val_accuracy: 0.7991  |  0:12:21s\n",
      "epoch 15 | loss: 0.43547 | val_auc: 0.81298 | val_accuracy: 0.80018 |  0:13:25s\n",
      "epoch 16 | loss: 0.43441 | val_auc: 0.81444 | val_accuracy: 0.80197 |  0:14:27s\n",
      "epoch 17 | loss: 0.43346 | val_auc: 0.81584 | val_accuracy: 0.80203 |  0:15:24s\n",
      "epoch 18 | loss: 0.43238 | val_auc: 0.81517 | val_accuracy: 0.80159 |  0:16:18s\n",
      "epoch 19 | loss: 0.43194 | val_auc: 0.81591 | val_accuracy: 0.80192 |  0:17:28s\n",
      "epoch 20 | loss: 0.43512 | val_auc: 0.81356 | val_accuracy: 0.80098 |  0:18:34s\n",
      "epoch 21 | loss: 0.43248 | val_auc: 0.81619 | val_accuracy: 0.80285 |  0:19:33s\n",
      "epoch 22 | loss: 0.43254 | val_auc: 0.81593 | val_accuracy: 0.80184 |  0:20:12s\n",
      "epoch 23 | loss: 0.4316  | val_auc: 0.81695 | val_accuracy: 0.80186 |  0:20:52s\n",
      "epoch 24 | loss: 0.43182 | val_auc: 0.81652 | val_accuracy: 0.80115 |  0:21:31s\n",
      "epoch 25 | loss: 0.43039 | val_auc: 0.81743 | val_accuracy: 0.80079 |  0:22:08s\n",
      "epoch 26 | loss: 0.43048 | val_auc: 0.81626 | val_accuracy: 0.80184 |  0:22:44s\n",
      "epoch 27 | loss: 0.43234 | val_auc: 0.81554 | val_accuracy: 0.80133 |  0:23:20s\n",
      "epoch 28 | loss: 0.43202 | val_auc: 0.81424 | val_accuracy: 0.79967 |  0:23:53s\n",
      "epoch 29 | loss: 0.4304  | val_auc: 0.81716 | val_accuracy: 0.80251 |  0:24:34s\n",
      "epoch 30 | loss: 0.42909 | val_auc: 0.81705 | val_accuracy: 0.80239 |  0:25:08s\n",
      "epoch 31 | loss: 0.43208 | val_auc: 0.81113 | val_accuracy: 0.79858 |  0:25:53s\n",
      "\n",
      "Early stopping occurred at epoch 31 with best_epoch = 21 and best_val_accuracy = 0.80285\n"
     ]
    },
    {
     "name": "stderr",
     "output_type": "stream",
     "text": [
      "c:\\Users\\yusra\\AppData\\Local\\Programs\\Python\\Python312\\Lib\\site-packages\\pytorch_tabnet\\callbacks.py:172: UserWarning: Best weights from best epoch are automatically used!\n",
      "  warnings.warn(wrn_msg)\n"
     ]
    },
    {
     "name": "stdout",
     "output_type": "stream",
     "text": [
      "Accuracy: 0.8028507063604017\n"
     ]
    }
   ],
   "source": [
    "clf_model = TabNetClassifier(\n",
    "    cat_idxs=cat_idxs,\n",
    "    cat_dims=cat_dims,\n",
    "    cat_emb_dim=3,\n",
    "    n_d=32, n_a=32, n_steps=5,\n",
    "    optimizer_params=dict(lr=2e-2),\n",
    "    mask_type='sparsemax'\n",
    ")\n",
    "\n",
    "clf_model.fit(\n",
    "    X_train=X_train_np, y_train=y_train.values,\n",
    "    eval_set=[(X_test_np, y_test.values)],\n",
    "    eval_name=[\"val\"],\n",
    "    eval_metric=[\"auc\", \"accuracy\"],\n",
    "    max_epochs=50,\n",
    "    patience=10,\n",
    "    batch_size=1024,\n",
    "    virtual_batch_size=128,\n",
    "    num_workers=0,\n",
    "    drop_last=False,\n",
    ")\n",
    "\n",
    "preds = clf_model.predict(X_test_np)\n",
    "print(\"Accuracy:\", accuracy_score(y_test, preds))\n"
   ]
  },
  {
   "cell_type": "code",
   "execution_count": null,
   "id": "00b5f878",
   "metadata": {},
   "outputs": [
    {
     "name": "stdout",
     "output_type": "stream",
     "text": [
      "Feature importance shape: (47497, 26)\n",
      "Feature importance for first 5 samples:\n"
     ]
    }
   ],
   "source": [
    "explain_matrix, masks = clf_model.explain(X_test_np)\n",
    "print(\"Feature importance shape:\", explain_matrix.shape)\n",
    "print(\"Feature importance for first 5 samples:\")\n",
    "\n",
    "plt.figure(figsize=(10, 6))\n",
    "sns.barplot(x=np.mean(explain_matrix, axis=0), y=X_train.columns)\n",
    "plt.title(\"Feature Importance\")\n",
    "plt.xlabel(\"Importance Score\")\n",
    "plt.ylabel(\"Features\")\n",
    "plt.show()"
   ]
  },
  {
   "cell_type": "code",
   "execution_count": 34,
   "id": "4d071802",
   "metadata": {},
   "outputs": [
    {
     "name": "stdout",
     "output_type": "stream",
     "text": [
      "              precision    recall  f1-score   support\n",
      "\n",
      "         0.0       0.83      0.93      0.88     35593\n",
      "         1.0       0.67      0.42      0.52     11904\n",
      "\n",
      "    accuracy                           0.80     47497\n",
      "   macro avg       0.75      0.68      0.70     47497\n",
      "weighted avg       0.79      0.80      0.79     47497\n",
      "\n"
     ]
    }
   ],
   "source": [
    "print(classification_report(y_test, preds))"
   ]
  }
 ],
 "metadata": {
  "kernelspec": {
   "display_name": "Python 3",
   "language": "python",
   "name": "python3"
  },
  "language_info": {
   "codemirror_mode": {
    "name": "ipython",
    "version": 3
   },
   "file_extension": ".py",
   "mimetype": "text/x-python",
   "name": "python",
   "nbconvert_exporter": "python",
   "pygments_lexer": "ipython3",
   "version": "3.12.6"
  }
 },
 "nbformat": 4,
 "nbformat_minor": 5
}
